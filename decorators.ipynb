{
 "cells": [
  {
   "cell_type": "markdown",
   "metadata": {},
   "source": [
    "# Функція - це об'єкт!"
   ]
  },
  {
   "cell_type": "markdown",
   "metadata": {},
   "source": [
    "Головне зрозуміти що функція - це ```об'єкт```. Це найголовніше. І що нею ти можеш маніпулювати як захочеш)\n",
    "По факту ось аналогія:\n",
    "Коли ми пишемо `x = [1, 2, 3]` то десь в пам'яті створюється об'єкт `[1, 2, 3]` і змінна `х` це просто бирка, яка вказує на цей об'єкт, по якій є змога доступитися до нього і якимось чином ним маніпулювати.\n",
    "В разі якщо ти оголошуєш функцію якусь def foo(): , то це також десь в пам'яті створюється об'єкт (тільки в цьому разі цей об'єкт - функція). І власне foo це бирка яка вказує на цей об'єкт."
   ]
  },
  {
   "cell_type": "code",
   "execution_count": null,
   "metadata": {},
   "outputs": [],
   "source": [
    "x = [1, 2, 3]\n",
    "print(x, id(x))\n",
    "\n",
    "def foo(): pass\n",
    "\n",
    "print(foo, id(foo))"
   ]
  },
  {
   "cell_type": "markdown",
   "metadata": {},
   "source": [
    "Раз ми можемо маніпулювати функціями як об'єктами, значить ми можемо їх передати як певні аргументи в інші функції, або ж повертати їх як результат виконання функцій\n",
    "ось маємо такий код:"
   ]
  },
  {
   "cell_type": "code",
   "execution_count": null,
   "metadata": {},
   "outputs": [],
   "source": [
    "def call_another_function_with_print(some_function):\n",
    "   print(some_function.__name__)\n",
    "   some_function()\n",
    "\n",
    "def foo():\n",
    "   print(\"I'm foo function\")\n",
    "\n",
    "call_another_function_with_print(foo)"
   ]
  },
  {
   "cell_type": "markdown",
   "metadata": {},
   "source": [
    "в цьому випадку ми можемо передати функцію foo як аргумент у функцію `call_another_function_with_print` (тобто зробити `call_another_function_with_print(foo)`) і тоді функція foo буде виконана в середині `call_another_function_with_print`\n",
    "Або ж можна створити щось таке:"
   ]
  },
  {
   "cell_type": "code",
   "execution_count": null,
   "metadata": {},
   "outputs": [],
   "source": [
    "def first():\n",
    "   print(\"I'm first function\")\n",
    "\n",
    "def second():\n",
    "   print(\"I'm second function\")\n",
    "\n",
    "def third():\n",
    "   print(\"I'm third function\")\n",
    "\n",
    "\n",
    "def function_genesis(func_number: int):\n",
    "\n",
    "    if func_number ==  1:\n",
    "        return first\n",
    "    elif func_number ==  2:\n",
    "        return second\n",
    "    elif func_number >=  3:\n",
    "        return third"
   ]
  },
  {
   "cell_type": "markdown",
   "metadata": {},
   "source": [
    "Данна функція повертає по якомусь числу `func_number` одну з функцій.\n",
    "відповідно якщо ми зробимо наступне то матимемо ось такі результати:"
   ]
  },
  {
   "cell_type": "code",
   "execution_count": null,
   "metadata": {},
   "outputs": [],
   "source": [
    "a = function_genesis(1) #повернеться функція first і закріпиться за змінною а\n",
    "b = function_genesis(2) #повернеться функція second і закріпиться за змінною b\n",
    "c = function_genesis(3) #повернеться функція third і закріпиться за змінною c\n",
    "\n",
    "a() # виконається функція first і запрінтиться \"I'm first function\"\n",
    "b() # виконається функція second і запрінтиться \"I'm second function\"\n",
    "c() # виконається функція third і запрінтиться \"I'm third function\""
   ]
  },
  {
   "cell_type": "markdown",
   "metadata": {},
   "source": [
    "Можна звернути увагу що в попередньому прикладі можна було викликати функції `first` `second` `third`  і без зайвих присвоєнь, просто звернувшись до них за тими іменами.\n",
    "Це призводить до того, що ці функції \"висять в пам'яті\" програми і будь-яка з них існує в \"часі житті програми\" та може бути викликана.\n",
    "Але ж функції не обов'язково оголошувати в \"глобальному просторі імен\")\n",
    "Тож можна зробити наступне:"
   ]
  },
  {
   "cell_type": "code",
   "execution_count": null,
   "metadata": {},
   "outputs": [],
   "source": [
    "def function_genesis(func_number: int):\n",
    "\n",
    "    def first():\n",
    "        print(\"I'm first function\")\n",
    "\n",
    "    def second():\n",
    "        print(\"I'm second function\")\n",
    "\n",
    "    def third():\n",
    "        print(\"I'm third function\")\n",
    "\n",
    "\n",
    "    if func_number ==  1:\n",
    "        return first\n",
    "    elif func_number ==  2:\n",
    "        return second\n",
    "    elif func_number >=  3:\n",
    "        return third"
   ]
  },
  {
   "cell_type": "markdown",
   "metadata": {},
   "source": [
    "Таким чином функції будуть оголошені В ТІЛІ ІНШОЇ функції, і не будуть доступні на глобальному рівні. Проте код"
   ]
  },
  {
   "cell_type": "code",
   "execution_count": null,
   "metadata": {},
   "outputs": [],
   "source": [
    "a = function_genesis(1) #повернеться функція first і закріпиться за змінною а\n",
    "b = function_genesis(2) #повернеться функція second і закріпиться за змінною b\n",
    "c = function_genesis(3) #повернеться функція third і закріпиться за змінною c\n",
    "\n",
    "a() # виконається функція first і запрінтиться \"I'm first function\"\n",
    "b() # виконається функція second і запрінтиться \"I'm second function\"\n",
    "c() # виконається функція third і запрінтиться \"I'm third function\""
   ]
  },
  {
   "cell_type": "markdown",
   "metadata": {},
   "source": [
    "буде виконуватись стабільно.\n",
    "Лишень доступ до  функцій `first` `second` `third`  тепер неможливий з іншого простору імен."
   ]
  },
  {
   "cell_type": "code",
   "execution_count": null,
   "metadata": {},
   "outputs": [],
   "source": [
    "first() # вивалиться NameError\n",
    "second() # вивалиться NameError\n",
    "third() # вивалиться NameError"
   ]
  },
  {
   "cell_type": "markdown",
   "metadata": {},
   "source": [
    "це перший варіант https://github.com/Oleksandr139Kotvytskyi/help/blob/main/image%20(1).png\n",
    "\n",
    "\"глобальніші\" простори імен не можуть \"бачити\" те, що міститься в менших просторах, тоді як більш \"локальні\" можуть бачити об'єкти в глобальному просторі, якщо об'єкти з таким іменем не існують в середині локального простору\n",
    "\n",
    "Це для другого варіанту: https://github.com/Oleksandr139Kotvytskyi/help/blob/main/image%20(2).png\n",
    "\n",
    "в цьому випадку функції `first` `second` `third` оголошені в середині `function_genesis`  і недоступні з глобального простору. проте ми можемо зробити виклик `function_genesis()` і ПОВЕРНУТИ якусь функцію і закріпити її ЗА ЯКОЮСЬ ЗМІННОЮ"
   ]
  },
  {
   "cell_type": "markdown",
   "metadata": {},
   "source": [
    "# Сутність декораторів:"
   ]
  },
  {
   "cell_type": "markdown",
   "metadata": {},
   "source": [
    "А тепер МAAAAАГІЯ: комбінуємо всі варіанти в купку: передачу функції як аргумент, генерацію функції в середині іншої функції, виклик функції-аргументу в середині функції, повернення функції в return і отримаємо ДЕКОРАТОР"
   ]
  },
  {
   "cell_type": "markdown",
   "metadata": {},
   "source": [
    "Уявимо що маємо певну одну або декілька функцій (в нашому випадку досить однієї), і ми хочемо якимось чином їх декорувати - навішати певну додаткову логіку для виконання до або після роботи декорованої функції."
   ]
  },
  {
   "cell_type": "markdown",
   "metadata": {},
   "source": [
    "Най функція, яку ми декоруватимем буде такою:"
   ]
  },
  {
   "cell_type": "code",
   "execution_count": null,
   "metadata": {},
   "outputs": [],
   "source": [
    "def bar(a, b):\n",
    "    print('function bar is called')\n",
    "    return a + b"
   ]
  },
  {
   "cell_type": "markdown",
   "metadata": {},
   "source": [
    "Тепер будемо іти по степах, поступово \"виводячи логіку\" декоратора.\n",
    "Якщо б ми знали, що нам потрібно додати певний функціонал тільки для функції `bar` і тільки для якихось конкретних аргументів , то могли б просто написати таке:"
   ]
  },
  {
   "cell_type": "code",
   "execution_count": null,
   "metadata": {},
   "outputs": [],
   "source": [
    "def do_bar_with_additional_code():\n",
    "   print('do something before bar')\n",
    "   result_of_bar = bar(1, 2)\n",
    "   print('do_something after bar')\n",
    "   return result_of_bar"
   ]
  },
  {
   "cell_type": "markdown",
   "metadata": {},
   "source": [
    "І якщо ми викличемо `do_bar_with_additional_code()`, то ця функція зробить виклик прінта перед виконанням коду функції `bar`, потім виконає функцію `bar` і збереже результат її виконання, потім знову щось прінтане і поверне результат функції `bar`"
   ]
  },
  {
   "cell_type": "markdown",
   "metadata": {},
   "source": [
    "\n",
    "Але ж ми не завжди хочемо викликати функцію `bar` тільки з аргументами `1` та `2`. Функція bar приймає будь-які 2 аргументи. Значить, щоб функція `do_bar_with_additional_code` була універсальнішою, то вона також має приймати якісь 2 аргументи і використовувати їх вже як аргументи для функції `bar`"
   ]
  },
  {
   "cell_type": "code",
   "execution_count": null,
   "metadata": {},
   "outputs": [],
   "source": [
    "def do_bar_with_additional_code(a, b):\n",
    "   print('do something before bar')\n",
    "   result_of_bar = bar(a, b)\n",
    "   print('do_something after bar')\n",
    "   return result_of_bar"
   ]
  },
  {
   "cell_type": "markdown",
   "metadata": {},
   "source": [
    "В результаті ми можемо викликати `do_bar_with_additional_code`  з будь-якими двома аргументами, і вона викличе прінт, потім `bar` з необхідними аргументами, потім знову прінт, потім поверне результат виконання `bar` для аргументів `a` та `б`\n",
    "Як прикалад:"
   ]
  },
  {
   "cell_type": "code",
   "execution_count": null,
   "metadata": {},
   "outputs": [],
   "source": [
    "do_bar_with_additional_code(1, 2) # виконає прінт перед, обрахунки функції bar, запише результат (значення якого буде 3) в змінну result_of_bar, виконає прінт після, поверне результат з result_of_bar\n",
    "do_bar_with_additional_code('qwq', 'wqq') # виконає прінт перед, обрахунки функції bar, запише результат (значення якого буде \"qwqwqq\") в змінну result_of_bar, виконає прінт після, поверне результат з result_of_bar\n",
    "do_bar_with_additional_code([1, 2, 3], [3, 4, 5]) # виконає прінт перед, обрахунки функції bar, запише результат (значення якого буде [1, 2, 3, 3, 4, 5]) в змінну result_of_bar, виконає прінт після, поверне результат з result_of_bar"
   ]
  },
  {
   "cell_type": "markdown",
   "metadata": {},
   "source": [
    "\n",
    "Знову таки, ми не завжди хочемо викликати саме функцію `bar` і бажаємо створити \"універсальну обгортку\", яка буде додавати певний код для будь-якої функції.\n",
    "Ну наприклад"
   ]
  },
  {
   "cell_type": "code",
   "execution_count": null,
   "metadata": {},
   "outputs": [],
   "source": [
    "def bar(a, b):\n",
    "    print('function bar is called')\n",
    "    return a + b\n",
    "\n",
    "def foo(a, b):\n",
    "    print('function foo is called')\n",
    "    return a * b"
   ]
  },
  {
   "cell_type": "markdown",
   "metadata": {},
   "source": [
    "Якщо ми маємо такі дві функції, то можна написати щось таке:"
   ]
  },
  {
   "cell_type": "code",
   "execution_count": null,
   "metadata": {},
   "outputs": [],
   "source": [
    "def do_bar_with_additional_code(a, b):\n",
    "   print('do something before bar')\n",
    "   result_of_bar = bar(a, b)\n",
    "   print('do_something after bar')\n",
    "   return result_of_bar\n",
    "\n",
    "def do_foo_with_additional_code(a, b):\n",
    "   print('do something before foo')\n",
    "   result_of_foo = foo(a, b)\n",
    "   print('do_something after foo')\n",
    "   return result_of_foo"
   ]
  },
  {
   "cell_type": "markdown",
   "metadata": {},
   "source": [
    "Але це ВЖЕ дуже громіздка конструкція (а якщо уявити що треба декорувати 100 або 1000 функцій), і ми не будемо її використовувати для такого.\n",
    "Простіше буде функцію передати як АРГУМЕНТ"
   ]
  },
  {
   "cell_type": "markdown",
   "metadata": {},
   "source": [
    "Тож вийде наступне"
   ]
  },
  {
   "cell_type": "code",
   "execution_count": null,
   "metadata": {},
   "outputs": [],
   "source": [
    "def do_function_with_additional_code(func, a, b):\n",
    "   print('do something before func')\n",
    "   result_of_func = func(a, b)\n",
    "   print('do_something after func')\n",
    "   return result_of_func"
   ]
  },
  {
   "cell_type": "markdown",
   "metadata": {},
   "source": [
    "Відповідно в цьому разі в нас вже є функція, яка виконує код інакшої фукції з певними аргументами\n",
    "\n",
    "Маємо приклад використання:"
   ]
  },
  {
   "cell_type": "code",
   "execution_count": null,
   "metadata": {},
   "outputs": [],
   "source": [
    "def bar(a, b):\n",
    "    print('function bar is called')\n",
    "    return a + b\n",
    "\n",
    "def foo(a, b):\n",
    "    print('function foo is called')\n",
    "    return a * b\n",
    "\n",
    "def do_function_with_additional_code(func, a, b):\n",
    "   print('do something before func')\n",
    "   result_of_func = func(a, b)\n",
    "   print('do_something after func')\n",
    "   return result_of_func\n",
    "\n",
    "\n",
    "b1 = do_function_with_additional_code(bar, 2, 3) # прінт 1, виклик функції bar з аргументами 2 та 3, прінт 2, повернення результату функції bar\n",
    "b2 = do_function_with_additional_code(bar, 4, 5) # прінт 1, виклик функції bar з аргументами 4 та 5, прінт 2, повернення результату функції bar\n",
    "f1 = do_function_with_additional_code(foo, 6, 7) # прінт 1, виклик функції foo з аргументами 6 та 7, прінт 2, повернення результату функції foo\n",
    "f2 = do_function_with_additional_code(foo, 8, 9) # прінт 1, виклик функції foo з аргументами 8 та 9, прінт 2, повернення результату функції foo"
   ]
  },
  {
   "cell_type": "markdown",
   "metadata": {},
   "source": [
    "\n",
    "А тепер уявімо наступну ситуацію. В коді з'являється функція, яка приймає не 2, а 3 аргументи:"
   ]
  },
  {
   "cell_type": "code",
   "execution_count": null,
   "metadata": {},
   "outputs": [],
   "source": [
    "def bar(a, b):\n",
    "    print('function bar is called')\n",
    "    return a + b\n",
    "\n",
    "def foo(a, b):\n",
    "    print('function foo is called')\n",
    "    return a * b\n",
    "\n",
    "def pipo(a, b, c):\n",
    "    print('THIS.IS.PIPOOOO!')\n",
    "    return a*b/c"
   ]
  },
  {
   "cell_type": "markdown",
   "metadata": {},
   "source": [
    "І виходить так, що наша функція `do_function_with_additional_code`  не може правильно працювати, так як не має достатньої кількості аргументів для виклику функції `pipo`.\n",
    "Якщо ж навіть і спробувати, то вийде наступне:"
   ]
  },
  {
   "cell_type": "code",
   "execution_count": null,
   "metadata": {},
   "outputs": [],
   "source": [
    "do_function_with_additional_code(pipo, 1, 2) # спрацює print 1, а далі вивалиться ексепшн TypeError: pipo() missing 1 required positional argument: 'с'"
   ]
  },
  {
   "cell_type": "markdown",
   "metadata": {},
   "source": [
    "\n",
    "Це наштовхує на думку, що функції, які необхідно декорувати, можуть бути самі по собі приймати геть різну кількість параметрів, як іменованих, так і не іменованих. Тож як це пофіксити?"
   ]
  },
  {
   "cell_type": "markdown",
   "metadata": {},
   "source": [
    "фікситься це використанням `args` та `kwargs`при оголошенні функції do_function_with_additional_code . Таким чином фунція буде передавати аргументи в внутрішню функцію саме так як потрібно:"
   ]
  },
  {
   "cell_type": "code",
   "execution_count": null,
   "metadata": {},
   "outputs": [],
   "source": [
    "def do_function_with_additional_code(func, *args, **kwargs):\n",
    "   print('do something before func')\n",
    "   result_of_func = func(*args, **kwargs)\n",
    "   print('do_something after func')\n",
    "   return result_of_func"
   ]
  },
  {
   "cell_type": "markdown",
   "metadata": {},
   "source": [
    "Важлива помітка:`args` та `kwargs` !необхідно! передавати не як цілі об'єкти при виклику функції `func`, а в розпакованому вигляді (тобто `func(*args, **kwars)` а не `func(args, kwars)`)"
   ]
  },
  {
   "cell_type": "markdown",
   "metadata": {},
   "source": [
    "\n",
    "І начепто все ок і наче все працює.... Але кожен раз викликати функцію `do_function_with_additional_code` , кожен раз передавати туди аргументи, функцію для виклику, ще щось.... виглядає дуже дуже так собі.\n",
    "Тож чому б нам не генерувати таку функцію і тільки тоді десь її викликати?"
   ]
  },
  {
   "cell_type": "markdown",
   "metadata": {},
   "source": [
    "Значить приходимо до думки, що нам необхідний \"генератор\" отаких функцій обгорток\n",
    "Трошки подумавши маємо наступне:"
   ]
  },
  {
   "cell_type": "code",
   "execution_count": null,
   "metadata": {},
   "outputs": [],
   "source": [
    "def decorator_with_print(func):\n",
    "\n",
    "    def wrapper(*args, **kwargs):\n",
    "        print('do something before func')\n",
    "        result_of_func = func(*args, **kwargs)\n",
    "        print('do_something after func')\n",
    "        return result_of_func\n",
    "\n",
    "    return wrapper"
   ]
  },
  {
   "cell_type": "markdown",
   "metadata": {},
   "source": [
    "Такий підхід дозволяє нам створити функцію-обгортку, яка буде містити в собі весь необхідний код включно з кодом функції, яку ми схочемо декорувати (та що передається як аргумент з назвою func)"
   ]
  },
  {
   "cell_type": "markdown",
   "metadata": {},
   "source": [
    "Крім цього, ми можемо в одному місці коду (або проєкту) створити таку \"обгорнуту функцію\", а використати зовсім в іншому. Наприклад:"
   ]
  },
  {
   "cell_type": "code",
   "execution_count": null,
   "metadata": {},
   "outputs": [],
   "source": [
    "def bar(a, b):\n",
    "    print('function bar is called')\n",
    "    return a + b\n",
    "\n",
    "def foo(a, b):\n",
    "    print('function foo is called')\n",
    "    return a * b\n",
    "\n",
    "def pipo(a, b, c):\n",
    "    print('THIS.IS.PIPOOOO!')\n",
    "    return a*b/c\n",
    "\n",
    "\n",
    "\n",
    "def decorator_with_print(func):\n",
    "\n",
    "    def wrapper(*args, **kwargs):\n",
    "        print('do something before func')\n",
    "        result_of_func = func(*args, **kwargs)\n",
    "        print('do_something after func')\n",
    "        return result_of_func\n",
    "\n",
    "    return wrapper\n",
    "\n",
    "decorated_bar = decorator_with_print(bar) # створення декорованої функції для подальшого використання\n",
    "\n",
    "decorated_foo = decorator_with_print(foo) # створення декорованої функції для подальшого використання\n",
    "\n",
    "decorated_pipo = decorator_with_print(pipo) # створення декорованої функції для подальшого використання\n",
    "\n",
    "decorated_bar(1, 3)\n",
    "decorated_foo(4, 5)\n",
    "decorated_pipo(6, 2, 2)"
   ]
  },
  {
   "cell_type": "markdown",
   "metadata": {},
   "source": [
    "\n",
    "Тобто це дозволяє нам зберегти огорнуту функцію, яку ми передаємо в декоратор, і не викликати її.\n",
    "Щоб порівняти ось наступний приклад, який продемонструє такі виклики просто для минулого варіанту:"
   ]
  },
  {
   "cell_type": "code",
   "execution_count": null,
   "metadata": {},
   "outputs": [],
   "source": [
    "def do_function_with_additional_code(func, *args, **kwargs):\n",
    "   print('do something before func')\n",
    "   result_of_func = func(*args, **kwargs)\n",
    "   print('do_something after func')\n",
    "   return result_of_func\n",
    "\n",
    "def bar(a, b):\n",
    "    print('function bar is called')\n",
    "    return a + b\n",
    "\n",
    "def foo(a, b):\n",
    "    print('function foo is called')\n",
    "    return a * b\n",
    "\n",
    "def pipo(a, b, c):\n",
    "    print('THIS.IS.PIPOOOO!')\n",
    "    return a*b/c\n",
    "\n",
    "# тепер я хочу викликати декоровану функцію pipo декілька разів\n",
    "\n",
    "do_function_with_additional_code(pipo, 1, 2, 3)\n",
    "do_function_with_additional_code(pipo, 1, 2, 3)\n",
    "do_function_with_additional_code(pipo, 1, 2, 3)\n",
    "do_function_with_additional_code(pipo, 1, 2, 3)\n",
    "do_function_with_additional_code(pipo, 1, 2, 3)\n",
    "\n",
    "# а якщо додати виклики інших функцій, то виходить взагалі дуже поганий код\n",
    "\n",
    "do_function_with_additional_code(pipo, 1, 2, 3)\n",
    "do_function_with_additional_code(pipo, 1, 2, 4)\n",
    "do_function_with_additional_code(foo, 1, 2)\n",
    "do_function_with_additional_code(bar, 1, 3)\n",
    "do_function_with_additional_code(pipo, 1, 2, 3)\n",
    "do_function_with_additional_code(foo, 1, 3)\n",
    "do_function_with_additional_code(pipo, 1, 2, 3)\n",
    "do_function_with_additional_code(pipo, 1, 2, 3)\n",
    "do_function_with_additional_code(bar, 1, 2)\n",
    "do_function_with_additional_code(pipo, 1, 2, 3)"
   ]
  },
  {
   "cell_type": "markdown",
   "metadata": {},
   "source": [
    "Ну очевидно ж що записи"
   ]
  },
  {
   "cell_type": "code",
   "execution_count": null,
   "metadata": {},
   "outputs": [],
   "source": [
    "decorated_bar(1, 3)\n",
    "decorated_foo(4, 5)\n",
    "decorated_pipo(6, 2, 2)"
   ]
  },
  {
   "cell_type": "markdown",
   "metadata": {},
   "source": [
    "набагато краще ніж той жах зверху"
   ]
  },
  {
   "cell_type": "markdown",
   "metadata": {},
   "source": [
    "# @"
   ]
  },
  {
   "cell_type": "markdown",
   "metadata": {},
   "source": [
    "Що до `@` - це частина так званого синтасичного цукру в мові Python, що дозволяє застосувати декоратор до функції під час її оголошення.\n",
    "Наприклад щоб не робити"
   ]
  },
  {
   "cell_type": "code",
   "execution_count": null,
   "metadata": {},
   "outputs": [],
   "source": [
    "def bar(a, b):\n",
    "    print('function bar is called')\n",
    "    return a + b\n",
    "\n",
    "bar = decorator_with_print(bar)"
   ]
  },
  {
   "cell_type": "markdown",
   "metadata": {},
   "source": [
    "можна вказати `@` та ім'я функції-декоратора перед тим як оголошувати функцію, яку ми хочемо декорувати."
   ]
  },
  {
   "cell_type": "code",
   "execution_count": null,
   "metadata": {},
   "outputs": [],
   "source": [
    "@decorator_with_print\n",
    "def bar(a, b):\n",
    "    print('function bar is called')\n",
    "    return a + b"
   ]
  },
  {
   "cell_type": "markdown",
   "metadata": {},
   "source": [
    "Важливий нюасн: слід звернути увагу на рядок `bar = decorator_with_print(bar)` : він означає що за цією \"биркою\" (але краще називати це \"ім'я змінної\") тепер записана не сама по собі функція `bar`, а її декорований вигляд. Це значить що тепер при кожному виклику `bar()` буде викликана саме функція-обгортка (див. код `wrapper`), що повинна містити в собі виклик початкової функції `bar`."
   ]
  },
  {
   "cell_type": "markdown",
   "metadata": {},
   "source": [
    "Якщо ж є потреба розділити декоровану та оригінальні версії то слід застосовувати запис трошки інакший:"
   ]
  },
  {
   "cell_type": "code",
   "execution_count": null,
   "metadata": {},
   "outputs": [],
   "source": [
    "def bar(a, b):\n",
    "    print('function bar is called')\n",
    "    return a + b\n",
    "\n",
    "decorated_bar = decorator_with_print(bar)"
   ]
  },
  {
   "cell_type": "markdown",
   "metadata": {},
   "source": [
    "Таким чином можна буде викликати як оригінальну функцію `bar` , так і її декоровану версію `decorated_bar`"
   ]
  },
  {
   "cell_type": "markdown",
   "metadata": {},
   "source": [
    "Ще раз наголошую що записи"
   ]
  },
  {
   "cell_type": "code",
   "execution_count": null,
   "metadata": {},
   "outputs": [],
   "source": [
    "@decorator_with_print\n",
    "def bar(a, b): pass"
   ]
  },
  {
   "cell_type": "markdown",
   "metadata": {},
   "source": [
    "та"
   ]
  },
  {
   "cell_type": "code",
   "execution_count": null,
   "metadata": {},
   "outputs": [],
   "source": [
    "def bar(a, b):\n",
    "   pass\n",
    "bar = decorator_with_print(bar)"
   ]
  },
  {
   "cell_type": "markdown",
   "metadata": {},
   "source": [
    "є ІДЕНТИЧНИМИ по суті"
   ]
  },
  {
   "cell_type": "markdown",
   "metadata": {},
   "source": [
    "# from functools import wraps"
   ]
  },
  {
   "cell_type": "markdown",
   "metadata": {},
   "source": [
    "Кожна функція в собі крім власне коду містить також і певні метадані. Це ім'я функції, її docstring (опис функції після оголошення), анотації функції та інше. Розробник має доступ до всіх цих параметрів та може їх певним чином отримувати та використати в своїх цілях.\n",
    "Наприклад:"
   ]
  },
  {
   "cell_type": "code",
   "execution_count": null,
   "metadata": {},
   "outputs": [],
   "source": [
    "def foo(a: int, b: str) -> str:\n",
    "    \"\"\"this function is created for multiplication of string\"\"\"\n",
    "    return a * b\n",
    "\n",
    "print('result of foo for 2 and \"qwerty\"', foo(2, 'qwerty'))\n",
    "\n",
    "print(\"name of function:\", foo.__name__)\n",
    "print(\"annotation of function:\", foo.__annotations__)\n",
    "print(\"docstring of function:\", foo.__doc__)\n",
    "help(foo)"
   ]
  },
  {
   "cell_type": "markdown",
   "metadata": {},
   "source": [
    "Проте якщо цю функцію декорувати то вийде невеличка прикрість"
   ]
  },
  {
   "cell_type": "code",
   "execution_count": null,
   "metadata": {},
   "outputs": [],
   "source": [
    "def useless_decorator(func):\n",
    "    def wrapper(*args, **kwargs):\n",
    "        return func(*args, **kwargs)\n",
    "    return wrapper\n",
    "\n",
    "@useless_decorator\n",
    "def foo(a: int, b: str) -> str:\n",
    "    \"\"\"this function is created for multiplication of string\"\"\"\n",
    "    return a * b\n",
    "\n",
    "print('result of foo for 2 and \"qwerty\"', foo(2, 'qwerty'))\n",
    "\n",
    "print(\"name of function:\", foo.__name__)\n",
    "print(\"annotation of function:\", foo.__annotations__)\n",
    "print(\"docstring of function:\", foo.__doc__)\n",
    "help(foo)"
   ]
  },
  {
   "cell_type": "markdown",
   "metadata": {},
   "source": [
    "Можемо бачити що всі метадані функції `foo` зникли і на їх місці з'явились метаданні функції `wrapper`. Все тому, що при декорування функції за іменем `foo` тепер знаходиться не сама по собі функція, а її декорований варіант. Це легко перевірити порівнявши їх адреси в пам'яті. Для цього застосуємо декоратор без використання \"синтаксичного цукру\""
   ]
  },
  {
   "cell_type": "code",
   "execution_count": null,
   "metadata": {},
   "outputs": [],
   "source": [
    "def useless_decorator(func):\n",
    "    def wrapper(*args, **kwargs):\n",
    "        return func(*args, **kwargs)\n",
    "    return wrapper\n",
    "\n",
    "def foo(a: int, b: str) -> str:\n",
    "    \"\"\"this function is created for multiplication of string\"\"\"\n",
    "    return a * b\n",
    "\n",
    "# виводимо результат виконання, матадані та адресу в пам'яті до декорування\n",
    "print('result of foo for 2 and \"qwerty\"', foo(2, 'qwerty'))\n",
    "\n",
    "print(\"name of function:\", foo.__name__)\n",
    "print(\"annotation of function:\", foo.__annotations__)\n",
    "print(\"docstring of function:\", foo.__doc__)\n",
    "help(foo)\n",
    "print('id of function:', id(foo))\n",
    "\n",
    "\n",
    "print('\\n' + '-' * 20 + ' I am separator ' + '-' * 20 + '\\n')\n",
    "\n",
    "\n",
    "# декоруємо функцію\n",
    "foo = useless_decorator(foo)\n",
    "\n",
    "# виводимо результат виконання, матадані та адресу в пам'яті після декорування\n",
    "print('result of foo for 2 and \"qwerty\"', foo(2, 'qwerty'))\n",
    "\n",
    "print(\"name of function:\", foo.__name__)\n",
    "print(\"annotation of function:\", foo.__annotations__)\n",
    "print(\"docstring of function:\", foo.__doc__)\n",
    "help(foo)\n",
    "print('id of function:', id(foo))"
   ]
  },
  {
   "cell_type": "markdown",
   "metadata": {},
   "source": [
    "Для уникнення такої ситуації в Python реалізоване готове рішення: спеціальний декоратор `wraps`, що міститься в бібліотеці `functools`."
   ]
  },
  {
   "cell_type": "code",
   "execution_count": null,
   "metadata": {},
   "outputs": [],
   "source": [
    "from functools import wraps\n",
    "\n",
    "def useless_decorator(func):\n",
    "\n",
    "    @wraps(func)\n",
    "    def wrapper(*args, **kwargs):\n",
    "        return func(*args, **kwargs)\n",
    "    return wrapper\n",
    "\n",
    "def foo(a: int, b: str) -> str:\n",
    "    \"\"\"this function is created for multiplication of string\"\"\"\n",
    "    return a * b\n",
    "\n",
    "# виводимо результат виконання, матадані та адресу в пам'яті до декорування\n",
    "print('result of foo for 2 and \"qwerty\"', foo(2, 'qwerty'))\n",
    "\n",
    "print(\"name of function:\", foo.__name__)\n",
    "print(\"annotation of function:\", foo.__annotations__)\n",
    "print(\"docstring of function:\", foo.__doc__)\n",
    "help(foo)"
   ]
  },
  {
   "cell_type": "markdown",
   "metadata": {},
   "source": [
    "Його необхідно застосувати як на прикладі: використати його як декоратор для функції-обгортки що генерується в середині коду декоратора і передати в нього функцію, що буде декорована (змінна `func`) як аргумент.\n",
    "P.S. Дивись розділ про `декоратори з параметрами` для кращого розуміння"
   ]
  },
  {
   "cell_type": "markdown",
   "metadata": {},
   "source": [
    "# Декоратори з збереженням стану (необхідо розуміти поняття області імен)"
   ]
  },
  {
   "cell_type": "markdown",
   "metadata": {},
   "source": [
    "Припустімо, що існує необхідність зберігати декоратором певні дані про декоровану функцію. Наприклад результат останнього виклику, кількість викликів функції, якісь додаткові параметри або ж інформацію що до декорованої функції."
   ]
  },
  {
   "cell_type": "markdown",
   "metadata": {},
   "source": [
    "Для такого випадку в функцію-декоратор, що генерує обгортку для декорованої функції, можна додати наступну конструкцію (для розуміння зміни коду вона буде виділена додатковими коментарями)"
   ]
  },
  {
   "cell_type": "code",
   "execution_count": null,
   "metadata": {},
   "outputs": [],
   "source": [
    "def decorator(func):\n",
    "\n",
    "    #<<<<<<<<<<\n",
    "    count_of_calls = 0\n",
    "    #>>>>>>>>>>\n",
    "\n",
    "    def wrapper(*args, **kwargs):\n",
    "        #<<<<<<<<<<\n",
    "        nonlocal count_of_calls\n",
    "        count_of_calls += 1\n",
    "        #>>>>>>>>>>\n",
    "\n",
    "        return foo(*args, **kwargs)\n",
    "\n",
    "    return wrapper()"
   ]
  },
  {
   "cell_type": "markdown",
   "metadata": {},
   "source": [
    "Що відбулося: в функцію декоратор було додано змінну `count_of_calls`, а в функцію обгортку - пряма взаємодія з цією змінною, забезпечена завдяки ключовому слову `nonlocal`.\n",
    "Таким чином, виходячи з логіки доданого коду, функція-декоратор буде зберігати кількість викликів функції обгортки."
   ]
  },
  {
   "cell_type": "markdown",
   "metadata": {},
   "source": [
    "Могло б виникнути запитання: \"а навіщо оголошувати якусь змінну в середині декоратора, а не в глобальному скоупі?\"\n",
    "Це зроблено для того, щоб уникнути конфлікту використання одного і того ж об'єкту з іменем `count_of_calls` різними функціями обгортками. Проте слід розібрати цей варіант з вищенаведеним з демонстрацією коду та ілюстраціями:"
   ]
  },
  {
   "cell_type": "markdown",
   "metadata": {},
   "source": [
    "Варіант з оголошенням `count_of_calls` в середині декоратора (зверніть увагу, що, так як числа від 0 до 256 мають зарезервовані області в пам'яті і мають сталу id, то змінна `count_of_calls` буде оголошена як `dict`):"
   ]
  },
  {
   "cell_type": "code",
   "execution_count": null,
   "metadata": {},
   "outputs": [],
   "source": [
    "def decorator(func):\n",
    "\n",
    "    count_of_calls = {'count': 0}\n",
    "\n",
    "    def wrapper(*args, **kwargs):\n",
    "        nonlocal count_of_calls\n",
    "        count_of_calls['count'] += 1\n",
    "        r = func(*args, **kwargs)\n",
    "        print(f\"function {func.__name__} successfully called {count_of_calls['count']} times. Id of variable for saving data: {id(count_of_calls)}\")\n",
    "        return r\n",
    "\n",
    "    return wrapper\n",
    "\n",
    "@decorator\n",
    "def a(): pass\n",
    "\n",
    "@decorator\n",
    "def b(): pass\n",
    "\n",
    "@decorator\n",
    "def c(): pass\n",
    "\n",
    "a() # 1 виклик a\n",
    "b() # 1 виклик b\n",
    "c() # 1 виклик c\n",
    "a() # 2 виклик a\n",
    "b() # 2 виклик b\n",
    "b() # 3 виклик b\n",
    "c() # 2 виклик c"
   ]
  },
  {
   "cell_type": "markdown",
   "metadata": {},
   "source": [
    "Як можна бачити, `id` об'єктів для збереження кількості викликів функції є різними для кожної декорованої функції."
   ]
  },
  {
   "cell_type": "markdown",
   "metadata": {},
   "source": [
    "Подивитись детальніше на те, що відбулося, можна на ілюстрації: https://github.com/Oleksandr139Kotvytskyi/help/blob/main/2023-09-03_15-30.png"
   ]
  },
  {
   "cell_type": "markdown",
   "metadata": {},
   "source": [
    "1. Відбувається створення в пам'яті змінної `count_of_calls` та функції обгортки для декорованої функції \"`а`\"\n",
    "2. В глобальному скоупі за назвою \"`a`\" закріплюється не оригінальна функція, а її декорований варіант (згенерована функція обгортка, що містить виклик оригінальної функції)\n",
    "\n",
    "3. Відбувається створення в пам'яті змінної `count_of_calls` та функції обгортки для декорованої функції \"`b`\"\n",
    "4. В глобальному скоупі за назвою \"`b`\" закріплюється не оригінальна функція, а її декорований варіант (згенерована функція обгортка, що містить виклик оригінальної функції)\n",
    "\n",
    "5. Відбувається створення в пам'яті змінної `count_of_calls` та функції обгортки для декорованої функції \"`c`\"\n",
    "6. В глобальному скоупі за назвою \"`c`\" закріплюється не оригінальна функція, а її декорований варіант (згенерована функція обгортка, що містить виклик оригінальної функції)\n",
    "\n",
    "@channel, буду радий вашим прав\n",
    "Зверніть увагу на те, що кожне декорування (виклик `@decorator`) має свій унікальний скоуп, через що об'єкти не мають конфлікту імен.\n",
    "\n",
    "Відповідно при кожному виклику `a()`, `b()` або `c()` виконуються різні декоровані функції (не дивлячись на те, що вони мають однаковий код) та кожна з яких має доступ тільки до СВОГО об'єкту для збереження даних під назвою `count_of_calls`"
   ]
  },
  {
   "cell_type": "markdown",
   "metadata": {},
   "source": [
    "Також, напротивагу, розглянемо варіант коли `count_of_calls` оголошена глобально (для цього оголосимо `count_of_calls` глобально, та при звертанні до цього об'єкту використаємо ключове слово `global`):"
   ]
  },
  {
   "cell_type": "code",
   "execution_count": null,
   "metadata": {},
   "outputs": [],
   "source": [
    "count_of_calls = {'count': 0}\n",
    "\n",
    "def decorator(func):\n",
    "\n",
    "    def wrapper(*args, **kwargs):\n",
    "        global count_of_calls\n",
    "        count_of_calls['count'] += 1\n",
    "        r = func(*args, **kwargs)\n",
    "        print(f\"function {func.__name__} successfully called {count_of_calls['count']} times. Id of variable for saving data: {id(count_of_calls)}\")\n",
    "        return r\n",
    "\n",
    "    return wrapper\n",
    "\n",
    "@decorator\n",
    "def a(): pass\n",
    "\n",
    "@decorator\n",
    "def b(): pass\n",
    "\n",
    "@decorator\n",
    "def c(): pass\n",
    "\n",
    "a() # 1 виклик a\n",
    "b() # 1 виклик b\n",
    "c() # 1 виклик c\n",
    "a() # 2 виклик a\n",
    "b() # 2 виклик b\n",
    "b() # 3 виклик b\n",
    "c() # 2 виклик c"
   ]
  },
  {
   "cell_type": "markdown",
   "metadata": {},
   "source": [
    "  Відразу бачимо помилки в роботі програми. Ця ситуація виникла через те, що для збереження кількості викликів функції використовується ГЛОБАЛЬНА змінна (див `id` в результатах виводу: вони однакові), і не дивлячись на те що функції обгортки - окремі об'єкти, вони послуговуються ОДНИМ об'єктом для збереження даних, відповідно спотворюють результати підрахунку."
   ]
  },
  {
   "cell_type": "markdown",
   "metadata": {},
   "source": [
    "# Декоратори з параметрами"
   ]
  },
  {
   "cell_type": "markdown",
   "metadata": {},
   "source": [
    "Для прикладу і виведення логіки роботи декоратору з параметрами пропоную розглянути наступний функціонал: декоратор, який записує в певний файл інформацію про виклик функції та інформацію про саму функцію в форматі JSON. Інформація що буде залогована: ім'я функції, позиційні параметри виклику, іменовані параметри виклику, чи виникла помилка в ході виконання функції, скільки часу функція працювала."
   ]
  },
  {
   "cell_type": "code",
   "execution_count": null,
   "metadata": {},
   "outputs": [],
   "source": [
    "import time\n",
    "import json\n",
    "\n",
    "def log_to_file_decorator(func):\n",
    "\n",
    "    def wrapper(*args, **kwargs):\n",
    "        # ініціалізація змінних для збереження даних\n",
    "        func_data = {\n",
    "            'name':  func.__name__,\n",
    "            'args': args,\n",
    "            'kwargs': kwargs,\n",
    "            'result': None,\n",
    "            'exception': None,\n",
    "            'work_time': None\n",
    "        }\n",
    "        result = None\n",
    "        cached_exception = None\n",
    "\n",
    "        start = time.time() # запис початку часу виконання функції\n",
    "        try:\n",
    "            result = func(*args, **kwargs) # власне виконання декорованої функції\n",
    "        except Exception as e: # в разі виникнення помилки\n",
    "            cached_exception = e # збереження об'єкту помилки в змінну для того щоб райзнути її потім\n",
    "        finally: # блок який виконується в будь-якому випадку\n",
    "            finish = time.time() # запис часу коли декорована функція припинила своє виконання\n",
    "            func_data['work_time'] = finish - start # обрахунок тривалості конання та запис значення в словник\n",
    "            func_data['result'] = result # запис результату в словник якщо функція виконалась без помилок\n",
    "            func_data['exception'] = str(cached_exception) # запис тексту помилки в словник\n",
    "            with open('log_file.txt', 'a') as log_file: # відкриття файлу 'log_file.txt' для запису збережених даних\n",
    "                log_file.write(json.dumps(func_data) + '\\n') # перетворення даних з словника func_data в json та запис їх в кінець файлу 'log_file.txt'\n",
    "\n",
    "        if result: # повернення результату виконання декорованої функції в разі якщо вона виконалась без помилок\n",
    "            return func_data['result']\n",
    "        if cached_exception: # райз помилки в разі, якщо під час виконання декорованої функції було отримано помилку\n",
    "            raise cached_exception\n",
    "\n",
    "    return wrapper\n",
    "\n",
    "@log_to_file_decorator\n",
    "def foo(a: int, b: int, c:int):\n",
    "    time.sleep(a)\n",
    "    return a + b + c\n",
    "\n",
    "foo(1, 2, 3)\n",
    "foo(3, 2, 1)\n",
    "foo(3, a=1, b=3)\n",
    "foo()"
   ]
  },
  {
   "cell_type": "markdown",
   "metadata": {},
   "source": [
    "Давайте звернемо увагу на рядок ```with open('log_file.txt', 'a') as log_file:```: цілком імовірно що ім'я файлу, або шлях до нього може не задовольняти розробника в тій чи іншій ситуації. Тож ідея винести цей параметр як окрему змінну. Проте як?"
   ]
  },
  {
   "cell_type": "markdown",
   "metadata": {},
   "source": [
    "Один з варіантів - передати цей параметр як змінну при виклику декоратра:"
   ]
  },
  {
   "cell_type": "code",
   "execution_count": null,
   "metadata": {},
   "outputs": [],
   "source": [
    "import time\n",
    "import json\n",
    "\n",
    "def log_to_file_decorator(func, log_filename):\n",
    "\n",
    "    def wrapper(*args, **kwargs):\n",
    "        # ініціалізація змінних для збереження даних\n",
    "        func_data = {\n",
    "            'name':  func.__name__,\n",
    "            'args': args,\n",
    "            'kwargs': kwargs,\n",
    "            'result': None,\n",
    "            'exception': None,\n",
    "            'work_time': None\n",
    "        }\n",
    "        result = None\n",
    "        cached_exception = None\n",
    "\n",
    "        start = time.time() # запис початку часу виконання функції\n",
    "        try:\n",
    "            result = func(*args, **kwargs) # власне виконання декорованої функції\n",
    "        except Exception as e: # в разі виникнення помилки\n",
    "            cached_exception = e # збереження об'єкту помилки в змінну для того щоб райзнути її потім\n",
    "        finally: # блок який виконується в будь-якому випадку\n",
    "            finish = time.time() # запис часу коли декорована функція припинила своє виконання\n",
    "            func_data['work_time'] = finish - start # обрахунок тривалості конання та запис значення в словник\n",
    "            func_data['result'] = result # запис результату в словник якщо функція виконалась без помилок\n",
    "            func_data['exception'] = str(cached_exception) # запис тексту помилки в словник\n",
    "            with open(log_filename, 'a') as log_file: # відкриття файлу 'log_file.txt' для запису збережених даних\n",
    "                log_file.write(json.dumps(func_data) + '\\n') # перетворення даних з словника func_data в json та запис їх в кінець файлу 'log_file.txt'\n",
    "\n",
    "        if result: # повернення результату виконання декорованої функції в разі якщо вона виконалась без помилок\n",
    "            return func_data['result']\n",
    "        if cached_exception: # райз помилки в разі, якщо під час виконання декорованої функції було отримано помилку\n",
    "            raise cached_exception\n",
    "\n",
    "    return wrapper"
   ]
  },
  {
   "cell_type": "markdown",
   "metadata": {},
   "source": [
    "І це спрацює, проте не так як очікувалося."
   ]
  },
  {
   "cell_type": "markdown",
   "metadata": {},
   "source": [
    "Наступний код виконається цілком правильно"
   ]
  },
  {
   "cell_type": "code",
   "execution_count": null,
   "metadata": {},
   "outputs": [],
   "source": [
    "def foo(a: int, b: int, c:int):\n",
    "    time.sleep(a)\n",
    "    return a + b + c\n",
    "\n",
    "foo = log_to_file_decorator(foo, 'new_log.txt')\n",
    "\n",
    "foo(1, 2, 3)\n"
   ]
  },
  {
   "cell_type": "markdown",
   "metadata": {},
   "source": [
    "Проте використання декоратора в вигляді `@log_to_file_decorator` стане неможливим, оскільки такий запис вимагає від декоратора щоб він приймав тільки один параметр - функцію яку необхідно декорувати."
   ]
  },
  {
   "cell_type": "code",
   "execution_count": null,
   "metadata": {},
   "outputs": [],
   "source": [
    "@log_to_file_decorator\n",
    "def foo(a: int, b: int, c:int):\n",
    "    time.sleep(a)\n",
    "    return a + b + c"
   ]
  },
  {
   "cell_type": "markdown",
   "metadata": {},
   "source": [
    "Рішення данної проблеми існує - додаткова обгортка навколо декоратора. Це буде функція, що генеруватиме декоратор з певними заданими параметрами"
   ]
  },
  {
   "cell_type": "code",
   "execution_count": null,
   "metadata": {},
   "outputs": [],
   "source": [
    "import time\n",
    "import json\n",
    "\n",
    "def log_to_file_decorator(log_filename):\n",
    "\n",
    "        def decorator(func):\n",
    "\n",
    "            def wrapper(*args, **kwargs):\n",
    "                # ініціалізація змінних для збереження даних\n",
    "                func_data = {\n",
    "                    'name':  func.__name__,\n",
    "                    'args': args,\n",
    "                    'kwargs': kwargs,\n",
    "                    'result': None,\n",
    "                    'exception': None,\n",
    "                    'work_time': None\n",
    "                }\n",
    "                result = None\n",
    "                cached_exception = None\n",
    "\n",
    "                start = time.time() # запис початку часу виконання функції\n",
    "                try:\n",
    "                    result = func(*args, **kwargs) # власне виконання декорованої функції\n",
    "                except Exception as e: # в разі виникнення помилки\n",
    "                    cached_exception = e # збереження об'єкту помилки в змінну для того щоб райзнути її потім\n",
    "                finally: # блок який виконується в будь-якому випадку\n",
    "                    finish = time.time() # запис часу коли декорована функція припинила своє виконання\n",
    "                    func_data['work_time'] = finish - start # обрахунок тривалості конання та запис значення в словник\n",
    "                    func_data['result'] = result # запис результату в словник якщо функція виконалась без помилок\n",
    "                    func_data['exception'] = str(cached_exception) # запис тексту помилки в словник\n",
    "                    with open(log_filename, 'a') as log_file: # відкриття файлу 'log_file.txt' для запису збережених даних\n",
    "                        log_file.write(json.dumps(func_data) + '\\n') # перетворення даних з словника func_data в json та запис їх в кінець файлу 'log_file.txt'\n",
    "\n",
    "                if result: # повернення результату виконання декорованої функції в разі якщо вона виконалась без помилок\n",
    "                    return func_data['result']\n",
    "                if cached_exception: # райз помилки в разі, якщо під час виконання декорованої функції було отримано помилку\n",
    "                    raise cached_exception\n",
    "\n",
    "            return wrapper\n",
    "\n",
    "        return decorator\n"
   ]
  },
  {
   "cell_type": "markdown",
   "metadata": {},
   "source": [
    "Такий декоратор вже відрізняється від відомого раніше запису. Для коректної роботи його необхідно `викликати`"
   ]
  },
  {
   "cell_type": "code",
   "execution_count": null,
   "metadata": {},
   "outputs": [],
   "source": [
    "@log_to_file_decorator('log_file3.txt')\n",
    "def foo(a: int, b: int, c:int):\n",
    "    time.sleep(a)\n",
    "    return a + b + c"
   ]
  },
  {
   "cell_type": "markdown",
   "metadata": {},
   "source": [
    "Буквально відбувається наступне:\n",
    "1. Відбувається виклик функції `log_to_file_decorator`.\n",
    "2. Функція `log_to_file_decorator` генерує декоратор з підставленим параметром, та повертає його.\n",
    "3. Згенерований декоратор передається в синтаксис `@`+ ім'я_декоратору.\n",
    "4. Згенерований декоратор застосовується до функції `foo`"
   ]
  },
  {
   "cell_type": "markdown",
   "metadata": {},
   "source": [
    "Якщо продемонструвати це шляхом прямого виконання коду то отримаємо наступне:"
   ]
  },
  {
   "cell_type": "code",
   "execution_count": null,
   "metadata": {},
   "outputs": [],
   "source": [
    "log_to_file_with_name_pipo = log_to_file_decorator('pipo.txt')\n",
    "\n",
    "@log_to_file_with_name_pipo\n",
    "def foo(a: int, b: int, c:int):\n",
    "    time.sleep(a)\n",
    "    return a + b + c"
   ]
  },
  {
   "cell_type": "markdown",
   "metadata": {},
   "source": [
    "або ж якщо ще більше позбутись \"невидимих операцій\""
   ]
  },
  {
   "cell_type": "code",
   "execution_count": null,
   "metadata": {},
   "outputs": [],
   "source": [
    "log_to_file_with_name_pipo = log_to_file_decorator('pipo.txt')\n",
    "\n",
    "def foo(a: int, b: int, c:int):\n",
    "    time.sleep(a)\n",
    "    return a + b + c\n",
    "\n",
    "foo = log_to_file_with_name_pipo(foo)"
   ]
  },
  {
   "cell_type": "markdown",
   "metadata": {},
   "source": [
    "# Приклади"
   ]
  },
  {
   "cell_type": "markdown",
   "metadata": {},
   "source": [
    "Декоратор, який рахує логує кожен виклик функції в консоль:"
   ]
  },
  {
   "cell_type": "code",
   "execution_count": null,
   "metadata": {},
   "outputs": [],
   "source": [
    "def func_log(func):\n",
    "    def wrapper(*args, **kwargs):\n",
    "        x = func(*args, **kwargs)\n",
    "        print(f\"{func.__name__=} {args=}, {kwargs=}, {x}\")\n",
    "        return x\n",
    "    return wrapper"
   ]
  },
  {
   "cell_type": "markdown",
   "metadata": {},
   "source": [
    "Декоратор, що кешує результати функції для певних параметрів (існує повний аналог. Його імпортовано):"
   ]
  },
  {
   "cell_type": "code",
   "execution_count": null,
   "metadata": {},
   "outputs": [],
   "source": [
    "from functools import lru_cache # вбудоване рішення\n",
    "\n",
    "import json\n",
    "\n",
    "def make_str_from_nested_dict(some_dict):\n",
    "    \"\"\"\n",
    "    recursive function for transforming dict into string (with sorted keys)\n",
    "    \"\"\"\n",
    "    r = \"{\"\n",
    "    for k in sorted(some_dict.keys()):\n",
    "        if type(some_dict[k]) == dict:\n",
    "            r += \":\".join([k, make_str_from_nested_dict(some_dict[k])])\n",
    "        else:\n",
    "            r += \":\".join([k, str(some_dict[k])])\n",
    "        r += ','\n",
    "    r += '}'\n",
    "    return r\n",
    "\n",
    "def casher(func):\n",
    "\n",
    "    results = {}\n",
    "    def wrapper(*args, **kwargs):\n",
    "        print(f'call {func.__name__} {args=}, {kwargs=}')\n",
    "        args_kwargs_json = json.dumps({'args': args, 'kwargs': make_str_from_nested_dict(kwargs)})\n",
    "        if not results.get(args_kwargs_json):\n",
    "            print(f'results for function {func.__name__} with args = {args} and kwargs = {kwargs} not found')\n",
    "            results[args_kwargs_json] = func(*args, **kwargs)\n",
    "        print(results)\n",
    "        return results[args_kwargs_json]\n",
    "    return wrapper"
   ]
  },
  {
   "cell_type": "markdown",
   "metadata": {},
   "source": [
    "Декоратор з параметром, що не дозволяє використовувати декоровану функцію частіше ніж раз в кілька секунд"
   ]
  },
  {
   "cell_type": "code",
   "execution_count": null,
   "metadata": {},
   "outputs": [],
   "source": [
    "def not_allow_to_use_often(timeout=1):\n",
    "\n",
    "    def decorator(func):\n",
    "        last_call = None\n",
    "\n",
    "        def wrapper(*args, **kwargs):\n",
    "            nonlocal last_call\n",
    "            if last_call:\n",
    "                if last_call + timeout > time.time():\n",
    "                    raise Exception('called too often')\n",
    "            last_call = time.time()\n",
    "            return func(*args, **kwargs)\n",
    "\n",
    "        return wrapper\n",
    "\n",
    "    return decorator"
   ]
  },
  {
   "cell_type": "markdown",
   "metadata": {},
   "source": [
    "Retry декоратор з параметрами, що виконує функцію декілька разів через певні проміжки часу в разі, якщо у функції виникне помилка"
   ]
  },
  {
   "cell_type": "code",
   "execution_count": null,
   "metadata": {},
   "outputs": [],
   "source": [
    "import functools\n",
    "import time\n",
    "\n",
    "\n",
    "class RetryError(Exception):\n",
    "    \"\"\"Exception \\\"of ending try counter\\\"\"\"\"\n",
    "\n",
    "\n",
    "def retry_request(counter=5, wait_time=1):\n",
    "\n",
    "    def retry_request_wrapper(func):\n",
    "\n",
    "        @functools.wraps(func)\n",
    "        def inner(*args, **kwargs):\n",
    "            wr_counter, wait = counter, wait_time\n",
    "            while wr_counter:\n",
    "                try:\n",
    "                    return func(*args, **kwargs)\n",
    "                except Exception:\n",
    "                    if wr_counter:\n",
    "                        time.sleep(wait)\n",
    "                    else:\n",
    "                        raise RetryError\n",
    "                wr_counter -= 1\n",
    "        return inner\n",
    "    return retry_request_wrapper\n",
    "\n"
   ]
  },
  {
   "cell_type": "markdown",
   "metadata": {},
   "source": [
    "Декоратор для перевірки типів. Працює тільки якщо початкова функція має анотацію (type hints)"
   ]
  },
  {
   "cell_type": "code",
   "execution_count": null,
   "metadata": {},
   "outputs": [],
   "source": [
    "def check_types_by_annotation(func):\n",
    "\n",
    "    def wrapper(*args, **kwargs):\n",
    "\n",
    "        arg_types = func.__annotations__\n",
    "        for arg_name, arg_value in zip(func.__code__.co_varnames, args):\n",
    "            if arg_name in arg_types and not isinstance(arg_value, arg_types[arg_name]):\n",
    "                raise TypeError(f\"Аргумент '{arg_name}' має неправильний тип\")\n",
    "        for kwarg_name in kwargs:\n",
    "            if kwarg_name in arg_types and not isinstance(kwargs[kwarg_name], arg_types[kwarg_name]):\n",
    "                raise TypeError(f\"Аргумент '{kwarg_name}' має неправильний тип\")\n",
    "        return func(*args, **kwargs)\n",
    "\n",
    "    return wrapper"
   ]
  },
  {
   "cell_type": "markdown",
   "metadata": {},
   "source": []
  }
 ],
 "metadata": {
  "kernelspec": {
   "display_name": "Python 3 (ipykernel)",
   "language": "python",
   "name": "python3"
  },
  "language_info": {
   "codemirror_mode": {
    "name": "ipython",
    "version": 3
   },
   "file_extension": ".py",
   "mimetype": "text/x-python",
   "name": "python",
   "nbconvert_exporter": "python",
   "pygments_lexer": "ipython3",
   "version": "3.11.2"
  }
 },
 "nbformat": 4,
 "nbformat_minor": 2
}
