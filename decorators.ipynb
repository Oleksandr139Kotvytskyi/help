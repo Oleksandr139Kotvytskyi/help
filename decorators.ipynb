{
 "cells": [
  {
   "cell_type": "markdown",
   "source": [
    "# Функція - це об'єкт!"
   ],
   "metadata": {
    "collapsed": false
   }
  },
  {
   "cell_type": "markdown",
   "source": [
    "Головне зрозуміти що функція - це об'єкт. Це найголовніше. І що нею ти можеш маніпулювати як захочеш)\n",
    "По факту ось аналогія:\n",
    "Коли ми пишемо x = [1, 2, 3] то десь в пам'яті створюється об'єкт [1, 2, 3] і змінна х це просто бирка, яка вказує на цей об'єкт, по якій є змога доступитися до нього і якимось чином ним маніпулювати.\n",
    "В разі якщо ти оголошуєш функцію якусь def foo(): , то це також десь в пам'яті створюється об'єкт (тільки в цьому разі цей об'єкт - функція). І власне foo це бирка яка вказує на цей об'єкт."
   ],
   "metadata": {
    "collapsed": false
   }
  },
  {
   "cell_type": "code",
   "execution_count": null,
   "outputs": [],
   "source": [
    "x = [1, 2, 3]\n",
    "print(x, id(x))\n",
    "\n",
    "def foo(): pass\n",
    "\n",
    "print(foo, id(foo))"
   ],
   "metadata": {
    "collapsed": false
   }
  },
  {
   "cell_type": "markdown",
   "source": [
    "Раз ми можемо маніпулювати функціями як об'єктами, значить ми можемо їх передати як певні аргументи в інші функції, або ж повертати їх як результат виконання функцій\n",
    "ось маємо такий код:"
   ],
   "metadata": {
    "collapsed": false
   }
  },
  {
   "cell_type": "code",
   "execution_count": null,
   "outputs": [],
   "source": [
    "def call_another_function_with_print(some_function):\n",
    "   print(some_function.__name__)\n",
    "   some_function()\n",
    "\n",
    "def foo():\n",
    "   print(\"I'm foo function\")\n",
    "\n",
    "call_another_function_with_print(foo)"
   ],
   "metadata": {
    "collapsed": false
   }
  },
  {
   "cell_type": "markdown",
   "source": [
    "в цьому випадку ми можемо передати функцію foo як аргумент у функцію call_another_function_with_print  (тобто зробити call_another_function_with_print(foo)) і тоді функція foo буде виконана в середині call_another_function_with_print\n",
    "Або ж можна створити щось таке:"
   ],
   "metadata": {
    "collapsed": false
   }
  },
  {
   "cell_type": "code",
   "execution_count": null,
   "outputs": [],
   "source": [
    "def first():\n",
    "   print(\"I'm first function\")\n",
    "\n",
    "def second():\n",
    "   print(\"I'm second function\")\n",
    "\n",
    "def third():\n",
    "   print(\"I'm third function\")\n",
    "\n",
    "\n",
    "def function_genesis(func_number: int):\n",
    "\n",
    "    if func_number ==  1:\n",
    "        return first\n",
    "    elif func_number ==  2:\n",
    "        return second\n",
    "    elif func_number >=  3:\n",
    "        return third"
   ],
   "metadata": {
    "collapsed": false
   }
  },
  {
   "cell_type": "markdown",
   "source": [
    "Данна функція повертає по якомусь числу func_number одну з функцій.\n",
    "відповідно якщо ми зробимо наступне то матимемо ось такі результати:"
   ],
   "metadata": {
    "collapsed": false
   }
  },
  {
   "cell_type": "code",
   "execution_count": null,
   "outputs": [],
   "source": [
    "a = function_genesis(1) #повернеться функція first і закріпиться за змінною а\n",
    "b = function_genesis(2) #повернеться функція second і закріпиться за змінною b\n",
    "c = function_genesis(3) #повернеться функція third і закріпиться за змінною c\n",
    "\n",
    "a() # виконається функція first і запрінтиться \"I'm first function\"\n",
    "b() # виконається функція second і запрінтиться \"I'm second function\"\n",
    "c() # виконається функція third і запрінтиться \"I'm third function\""
   ],
   "metadata": {
    "collapsed": false
   }
  },
  {
   "cell_type": "markdown",
   "source": [
    "Можна звернути увагу що в попередньому прикладі можна було викликати функції first second third  і без зайвих присвоєнь, просто звернувшись до них за тими іменами.\n",
    "Це призводить до того, що ці функції \"висять в пам'яті\" програми і будь-яка з них існує в \"часі житті програми\" та може бути викликана.\n",
    "Але ж функції не обов'язково оголошувати в \"глобальному просторі імен\")\n",
    "Тож можна зробити наступне:"
   ],
   "metadata": {
    "collapsed": false
   }
  },
  {
   "cell_type": "code",
   "execution_count": null,
   "outputs": [],
   "source": [
    "def function_genesis(func_number: int):\n",
    "\n",
    "    def first():\n",
    "        print(\"I'm first function\")\n",
    "\n",
    "    def second():\n",
    "        print(\"I'm second function\")\n",
    "\n",
    "    def third():\n",
    "        print(\"I'm third function\")\n",
    "\n",
    "\n",
    "    if func_number ==  1:\n",
    "        return first\n",
    "    elif func_number ==  2:\n",
    "        return second\n",
    "    elif func_number >=  3:\n",
    "        return third"
   ],
   "metadata": {
    "collapsed": false
   }
  },
  {
   "cell_type": "markdown",
   "source": [
    "Таким чином функції будуть оголошені В ТІЛІ ІНШОЇ функції, і не будуть доступні на глобальному рівні. Проте код"
   ],
   "metadata": {
    "collapsed": false
   }
  },
  {
   "cell_type": "code",
   "execution_count": null,
   "outputs": [],
   "source": [
    "a = function_genesis(1) #повернеться функція first і закріпиться за змінною а\n",
    "b = function_genesis(2) #повернеться функція second і закріпиться за змінною b\n",
    "c = function_genesis(3) #повернеться функція third і закріпиться за змінною c\n",
    "\n",
    "a() # виконається функція first і запрінтиться \"I'm first function\"\n",
    "b() # виконається функція second і запрінтиться \"I'm second function\"\n",
    "c() # виконається функція third і запрінтиться \"I'm third function\""
   ],
   "metadata": {
    "collapsed": false
   }
  },
  {
   "cell_type": "markdown",
   "source": [
    "буде виконуватись стабільно.\n",
    "Лишень доступ до  функцій first second third  тепер неможливий з іншого простору імен."
   ],
   "metadata": {
    "collapsed": false
   }
  },
  {
   "cell_type": "code",
   "execution_count": null,
   "outputs": [],
   "source": [
    "first() # вивалиться NameError\n",
    "second() # вивалиться NameError\n",
    "third() # вивалиться NameError"
   ],
   "metadata": {
    "collapsed": false
   }
  },
  {
   "cell_type": "markdown",
   "source": [
    "це перший варіант https://github.com/Oleksandr139Kotvytskyi/help/blob/main/image%20(1).png\n",
    "\n",
    "\"глобальніші\" простори імен не можуть \"бачити\" те, що міститься в менших просторах, тоді як більш \"локальні\" можуть бачити об'єкти в глобальному просторі, якщо об'єкти з таким іменем не існують в середині локального простору\n",
    "\n",
    "Це для другого варіанту: https://github.com/Oleksandr139Kotvytskyi/help/blob/main/image%20(2).png\n",
    "\n",
    "в цьому випадку функції first second third оголошені в середині function_genesis  і недоступні з глобального простору. проте ми можемо зробити виклик function_genesis() і ПОВЕРНУТИ якусь функцію і закріпити її ЗА ЯКОЮСЬ ЗМІННОЮ"
   ],
   "metadata": {
    "collapsed": false
   }
  },
  {
   "cell_type": "markdown",
   "source": [
    "# Сутність декораторів:"
   ],
   "metadata": {
    "collapsed": false
   }
  },
  {
   "cell_type": "markdown",
   "source": [
    "А тепер МAAAAАГІЯ: комбінуємо всі варіанти в купку: передачу функції як аргумент, генерацію функції в середині іншої функції, виклик функції-аргументу в середині функції, повернення функції в return і отримаємо ДЕКОРАТОР"
   ],
   "metadata": {
    "collapsed": false
   }
  },
  {
   "cell_type": "markdown",
   "source": [
    "Уявимо що маємо певну одну або декілька функцій (в нашому випадку досить однієї), і ми хочемо якимось чином їх декорувати - навішати певну додаткову логіку для виконання до або після роботи декорованої функції."
   ],
   "metadata": {
    "collapsed": false
   }
  },
  {
   "cell_type": "markdown",
   "source": [
    "Най функція, яку ми декоруватимем буде такою:"
   ],
   "metadata": {
    "collapsed": false
   }
  },
  {
   "cell_type": "code",
   "execution_count": null,
   "outputs": [],
   "source": [
    "def bar(a, b):\n",
    "    print('function bar is called')\n",
    "    return a + b"
   ],
   "metadata": {
    "collapsed": false
   }
  },
  {
   "cell_type": "markdown",
   "source": [
    "Якщо б ми знали, що нам потрібно додати певний функціонал тільки для функції bar і тільки для якихось конкретних аргументів , то могли б просто написати таке:"
   ],
   "metadata": {
    "collapsed": false
   }
  },
  {
   "cell_type": "markdown",
   "source": [
    "Якщо б ми знали, що нам потрібно додати певний функціонал тільки для функції bar і тільки для якихось конкретних аргументів , то могли б просто написати таке:"
   ],
   "metadata": {
    "collapsed": false
   }
  },
  {
   "cell_type": "code",
   "execution_count": null,
   "outputs": [],
   "source": [
    "def do_bar_with_additional_code():\n",
    "   print('do something before bar')\n",
    "   result_of_bar = bar(1, 2)\n",
    "   print('do_something after bar')\n",
    "   return result_of_bar"
   ],
   "metadata": {
    "collapsed": false
   }
  },
  {
   "cell_type": "markdown",
   "source": [
    "І якщо ми викличемо do_bar_with_additional_code(), то ця функція зробить виклик прінта перед виконанням коду функції bar, потім виконає функцію bar і збереже результат її виконання, потім знову щось прінтане і поверне результат функції bar"
   ],
   "metadata": {
    "collapsed": false
   }
  },
  {
   "cell_type": "markdown",
   "source": [
    "\n",
    "Але ж ми не завжди хочемо викликати функцію bar  тільки з аргументами 1 та 2. Функція bar приймає будь-які 2 аргументи. Значить щоб функція do_bar_with_additional_code була універсальнішою то вона також має приймати якісь 2 аргументи і використовувати їх вже як аргументи для функції bar"
   ],
   "metadata": {
    "collapsed": false
   }
  },
  {
   "cell_type": "code",
   "execution_count": null,
   "outputs": [],
   "source": [
    "def do_bar_with_additional_code(a, b):\n",
    "   print('do something before bar')\n",
    "   result_of_bar = bar(a, b)\n",
    "   print('do_something after bar')\n",
    "   return result_of_bar"
   ],
   "metadata": {
    "collapsed": false
   }
  },
  {
   "cell_type": "markdown",
   "source": [
    "В результаті ми можемо викликати do_bar_with_additional_code  з будь-якими двома аргументами, і вона викличе прінт, потім bar з необхідними аргументами, потім знову прінт, потім поверне результат виконання bar  для аргументів a та б\n",
    "Як прикалад:"
   ],
   "metadata": {
    "collapsed": false
   }
  },
  {
   "cell_type": "code",
   "execution_count": null,
   "outputs": [],
   "source": [
    "do_bar_with_additional_code(1, 2) # виконає прінт перед, обрахунки функції bar, запише результат (значення якого буде 3) в змінну result_of_bar, виконає прінт після, поверне результат з result_of_bar\n",
    "do_bar_with_additional_code('qwq', 'wqq') # виконає прінт перед, обрахунки функції bar, запише результат (значення якого буде \"qwqwqq\") в змінну result_of_bar, виконає прінт після, поверне результат з result_of_bar\n",
    "do_bar_with_additional_code([1, 2, 3], [3, 4, 5]) # виконає прінт перед, обрахунки функції bar, запише результат (значення якого буде [1, 2, 3, 3, 4, 5]) в змінну result_of_bar, виконає прінт після, поверне результат з result_of_bar"
   ],
   "metadata": {
    "collapsed": false
   }
  },
  {
   "cell_type": "markdown",
   "source": [
    "\n",
    "знову таки, ми не завжди хочемо викликати саме функцію bar  і бажаємо створити \"універсальну обгортку\", яка буде додавати певний код для будь-якої  функції\n",
    "ну наприклад"
   ],
   "metadata": {
    "collapsed": false
   }
  },
  {
   "cell_type": "code",
   "execution_count": null,
   "outputs": [],
   "source": [
    "def bar(a, b):\n",
    "    print('function bar is called')\n",
    "    return a + b\n",
    "\n",
    "def foo(a, b):\n",
    "    print('function foo is called')\n",
    "    return a * b"
   ],
   "metadata": {
    "collapsed": false
   }
  },
  {
   "cell_type": "markdown",
   "source": [
    "Якщо ми маємо такі дві функції, то можна написати щось таке:"
   ],
   "metadata": {
    "collapsed": false
   }
  },
  {
   "cell_type": "code",
   "execution_count": null,
   "outputs": [],
   "source": [
    "def do_bar_with_additional_code(a, b):\n",
    "   print('do something before bar')\n",
    "   result_of_bar = bar(a, b)\n",
    "   print('do_something after bar')\n",
    "   return result_of_bar\n",
    "\n",
    "def do_foo_with_additional_code(a, b):\n",
    "   print('do something before foo')\n",
    "   result_of_foo = foo(a, b)\n",
    "   print('do_something after foo')\n",
    "   return result_of_foo"
   ],
   "metadata": {
    "collapsed": false
   }
  },
  {
   "cell_type": "markdown",
   "source": [
    "Але це ВЖЕ дуже громіздка конструкція (а якщо уявити що треба декорувати 100 або 1000 функцій), і ми не будемо її використовувати для такого.\n",
    "Простіше буде функцію передати як АРГУМЕНТ"
   ],
   "metadata": {
    "collapsed": false
   }
  },
  {
   "cell_type": "markdown",
   "source": [
    "Тож вийде наступне"
   ],
   "metadata": {
    "collapsed": false
   }
  },
  {
   "cell_type": "code",
   "execution_count": null,
   "outputs": [],
   "source": [
    "def do_function_with_additional_code(func, a, b):\n",
    "   print('do something before func')\n",
    "   result_of_func = func(a, b)\n",
    "   print('do_something after func')\n",
    "   return result_of_func"
   ],
   "metadata": {
    "collapsed": false
   }
  },
  {
   "cell_type": "markdown",
   "source": [
    "Відповідно в цьому разі в нас вже є функція, яка виконує код інакшої фукції з певними аргументами\n",
    "\n",
    "Маємо приклад використання:"
   ],
   "metadata": {
    "collapsed": false
   }
  },
  {
   "cell_type": "code",
   "execution_count": null,
   "outputs": [],
   "source": [
    "def bar(a, b):\n",
    "    print('function bar is called')\n",
    "    return a + b\n",
    "\n",
    "def foo(a, b):\n",
    "    print('function foo is called')\n",
    "    return a * b\n",
    "\n",
    "def do_function_with_additional_code(func, a, b):\n",
    "   print('do something before func')\n",
    "   result_of_func = func(a, b)\n",
    "   print('do_something after func')\n",
    "   return result_of_func\n",
    "\n",
    "\n",
    "b1 = do_function_with_additional_code(bar, 2, 3) # прінт 1, виклик функції bar з аргументами 2 та 3, прінт 2, повернення результату функції bar\n",
    "b2 = do_function_with_additional_code(bar, 4, 5) # прінт 1, виклик функції bar з аргументами 4 та 5, прінт 2, повернення результату функції bar\n",
    "f1 = do_function_with_additional_code(foo, 6, 7) # прінт 1, виклик функції foo з аргументами 6 та 7, прінт 2, повернення результату функції foo\n",
    "f2 = do_function_with_additional_code(foo, 8, 9) # прінт 1, виклик функції foo з аргументами 8 та 9, прінт 2, повернення результату функції foo"
   ],
   "metadata": {
    "collapsed": false
   }
  },
  {
   "cell_type": "markdown",
   "source": [
    "\n",
    "А тепер уявімо наступну ситуацію. В коді з'являється функція, яка приймає не 2, а 3 аргументи:"
   ],
   "metadata": {
    "collapsed": false
   }
  },
  {
   "cell_type": "code",
   "execution_count": null,
   "outputs": [],
   "source": [
    "def bar(a, b):\n",
    "    print('function bar is called')\n",
    "    return a + b\n",
    "\n",
    "def foo(a, b):\n",
    "    print('function foo is called')\n",
    "    return a * b\n",
    "\n",
    "def pipo(a, b, c):\n",
    "    print('THIS.IS.PIPOOOO!')\n",
    "    return a*b/c"
   ],
   "metadata": {
    "collapsed": false
   }
  },
  {
   "cell_type": "markdown",
   "source": [
    "І виходить так, що наша функція do_function_with_additional_code  не може правильно працювати так як не має достатньої кількості аргументів для виклику функції pipo\n",
    "якщо ж навіть і спробувати, то вийде наступне:"
   ],
   "metadata": {
    "collapsed": false
   }
  },
  {
   "cell_type": "code",
   "execution_count": null,
   "outputs": [],
   "source": [
    "do_function_with_additional_code(pipo, 1, 2) # спрацює print 1, а далі вивалиться ексепшн TypeError: pipo() missing 1 required positional argument: 'с'"
   ],
   "metadata": {
    "collapsed": false
   }
  },
  {
   "cell_type": "markdown",
   "source": [
    "\n",
    "Це наштовхує на думку, що функції, які необхідно декорувати, можуть бути самі по собі приймати геть різну кількість параметрів, як іменованих, так і не іменованих. Тож як це пофіксити?"
   ],
   "metadata": {
    "collapsed": false
   }
  },
  {
   "cell_type": "markdown",
   "source": [
    "фікситься це використанням args та kwargs при оголошенні функції do_function_with_additional_code . Таким чином фунція буде передавати аргументи в внутрішню функцію саме так як потрібно:"
   ],
   "metadata": {
    "collapsed": false
   }
  },
  {
   "cell_type": "code",
   "execution_count": 56,
   "outputs": [],
   "source": [
    "def do_function_with_additional_code(func, *args, **kwargs):\n",
    "   print('do something before func')\n",
    "   result_of_func = func(*args, **kwargs)\n",
    "   print('do_something after func')\n",
    "   return result_of_func"
   ],
   "metadata": {
    "collapsed": false,
    "ExecuteTime": {
     "end_time": "2023-09-01T12:24:45.057598901Z",
     "start_time": "2023-09-01T12:24:44.678040212Z"
    }
   }
  },
  {
   "cell_type": "markdown",
   "source": [
    "Важлива помітка:args та kwargs !необхідно! передавати не як цілі об'єкти при виклику функції func, а в розпакованому вигляді (тобто func(*args, **kwars) а не func(args, kwars))"
   ],
   "metadata": {
    "collapsed": false
   }
  },
  {
   "cell_type": "markdown",
   "source": [
    "\n",
    "І начепто все ок і наче все працює.... Але кожен раз викликати функцію do_function_with_additional_code , кожен раз передавати туди аргументи, функцію для виклику, ще щось.... виглядає дуже дуже так собі.\n",
    "Тож чому б нам не генерувати таку функцію і тільки тоді десь її викликати?"
   ],
   "metadata": {
    "collapsed": false
   }
  },
  {
   "cell_type": "markdown",
   "source": [
    "Значить приходимо до думки, що нам необхідний \"генератор\" отаких функцій обгорток\n",
    "Трошки подумавши маємо наступне:"
   ],
   "metadata": {
    "collapsed": false
   }
  },
  {
   "cell_type": "code",
   "execution_count": 57,
   "outputs": [],
   "source": [
    "def decorator_with_print(func):\n",
    "\n",
    "    def wrapper(*args, **kwargs):\n",
    "        print('do something before func')\n",
    "        result_of_func = func(*args, **kwargs)\n",
    "        print('do_something after func')\n",
    "        return result_of_func\n",
    "\n",
    "    return wrapper"
   ],
   "metadata": {
    "collapsed": false,
    "ExecuteTime": {
     "end_time": "2023-09-01T12:24:45.245415469Z",
     "start_time": "2023-09-01T12:24:44.727362835Z"
    }
   }
  },
  {
   "cell_type": "markdown",
   "source": [
    "Такий підхід дозволяє нам створити функцію-обгортку, яка буде містити в собі весь необхідний код включно з кодом функції, яку ми схочемо декорувати (та що передається як аргумент з назвою func)"
   ],
   "metadata": {
    "collapsed": false
   }
  },
  {
   "cell_type": "markdown",
   "source": [
    "Крім цього, ми можемо в одному місці коду (або проєкту) створити таку \"обгорнуту функцію\", а використати зовсім в іншому. Наприклад:"
   ],
   "metadata": {
    "collapsed": false
   }
  },
  {
   "cell_type": "code",
   "execution_count": 58,
   "outputs": [
    {
     "name": "stdout",
     "output_type": "stream",
     "text": [
      "do something before func\n",
      "function bar is called\n",
      "do_something after func\n",
      "do something before func\n",
      "function foo is called\n",
      "do_something after func\n",
      "do something before func\n",
      "THIS.IS.PIPOOOO!\n",
      "do_something after func\n"
     ]
    },
    {
     "data": {
      "text/plain": "6.0"
     },
     "execution_count": 58,
     "metadata": {},
     "output_type": "execute_result"
    }
   ],
   "source": [
    "def bar(a, b):\n",
    "    print('function bar is called')\n",
    "    return a + b\n",
    "\n",
    "def foo(a, b):\n",
    "    print('function foo is called')\n",
    "    return a * b\n",
    "\n",
    "def pipo(a, b, c):\n",
    "    print('THIS.IS.PIPOOOO!')\n",
    "    return a*b/c\n",
    "\n",
    "\n",
    "\n",
    "def decorator_with_print(func):\n",
    "\n",
    "    def wrapper(*args, **kwargs):\n",
    "        print('do something before func')\n",
    "        result_of_func = func(*args, **kwargs)\n",
    "        print('do_something after func')\n",
    "        return result_of_func\n",
    "\n",
    "    return wrapper\n",
    "\n",
    "decorated_bar = decorator_with_print(bar) # створення декорованої функції для подальшого використання\n",
    "\n",
    "decorated_foo = decorator_with_print(foo) # створення декорованої функції для подальшого використання\n",
    "\n",
    "decorated_pipo = decorator_with_print(pipo) # створення декорованої функції для подальшого використання\n",
    "\n",
    "decorated_bar(1, 3)\n",
    "decorated_foo(4, 5)\n",
    "decorated_pipo(6, 2, 2)"
   ],
   "metadata": {
    "collapsed": false,
    "ExecuteTime": {
     "end_time": "2023-09-01T12:24:45.316194520Z",
     "start_time": "2023-09-01T12:24:44.782253144Z"
    }
   }
  },
  {
   "cell_type": "markdown",
   "source": [
    "\n",
    "Тобто це дозволяє нам зберегти огорнуту функцію, яку ми передаємо в декоратор, і не викликати її.\n",
    "Щоб порівняти ось наступний приклад, який продемонструє такі виклики просто для минулого варіанту:"
   ],
   "metadata": {
    "collapsed": false
   }
  },
  {
   "cell_type": "code",
   "execution_count": 59,
   "outputs": [
    {
     "name": "stdout",
     "output_type": "stream",
     "text": [
      "do something before func\n",
      "THIS.IS.PIPOOOO!\n",
      "do_something after func\n",
      "do something before func\n",
      "THIS.IS.PIPOOOO!\n",
      "do_something after func\n",
      "do something before func\n",
      "THIS.IS.PIPOOOO!\n",
      "do_something after func\n",
      "do something before func\n",
      "THIS.IS.PIPOOOO!\n",
      "do_something after func\n",
      "do something before func\n",
      "THIS.IS.PIPOOOO!\n",
      "do_something after func\n",
      "do something before func\n",
      "THIS.IS.PIPOOOO!\n",
      "do_something after func\n",
      "do something before func\n",
      "THIS.IS.PIPOOOO!\n",
      "do_something after func\n",
      "do something before func\n",
      "function foo is called\n",
      "do_something after func\n",
      "do something before func\n",
      "function bar is called\n",
      "do_something after func\n",
      "do something before func\n",
      "THIS.IS.PIPOOOO!\n",
      "do_something after func\n",
      "do something before func\n",
      "function foo is called\n",
      "do_something after func\n",
      "do something before func\n",
      "THIS.IS.PIPOOOO!\n",
      "do_something after func\n",
      "do something before func\n",
      "THIS.IS.PIPOOOO!\n",
      "do_something after func\n",
      "do something before func\n",
      "function bar is called\n",
      "do_something after func\n",
      "do something before func\n",
      "THIS.IS.PIPOOOO!\n",
      "do_something after func\n"
     ]
    },
    {
     "data": {
      "text/plain": "0.6666666666666666"
     },
     "execution_count": 59,
     "metadata": {},
     "output_type": "execute_result"
    }
   ],
   "source": [
    "def do_function_with_additional_code(func, *args, **kwargs):\n",
    "   print('do something before func')\n",
    "   result_of_func = func(*args, **kwargs)\n",
    "   print('do_something after func')\n",
    "   return result_of_func\n",
    "\n",
    "def bar(a, b):\n",
    "    print('function bar is called')\n",
    "    return a + b\n",
    "\n",
    "def foo(a, b):\n",
    "    print('function foo is called')\n",
    "    return a * b\n",
    "\n",
    "def pipo(a, b, c):\n",
    "    print('THIS.IS.PIPOOOO!')\n",
    "    return a*b/c\n",
    "\n",
    "# тепер я хочу викликати декоровану функцію pipo декілька разів\n",
    "\n",
    "do_function_with_additional_code(pipo, 1, 2, 3)\n",
    "do_function_with_additional_code(pipo, 1, 2, 3)\n",
    "do_function_with_additional_code(pipo, 1, 2, 3)\n",
    "do_function_with_additional_code(pipo, 1, 2, 3)\n",
    "do_function_with_additional_code(pipo, 1, 2, 3)\n",
    "\n",
    "# а якщо додати виклики інших функцій, то виходить взагалі дуже поганий код\n",
    "\n",
    "do_function_with_additional_code(pipo, 1, 2, 3)\n",
    "do_function_with_additional_code(pipo, 1, 2, 4)\n",
    "do_function_with_additional_code(foo, 1, 2)\n",
    "do_function_with_additional_code(bar, 1, 3)\n",
    "do_function_with_additional_code(pipo, 1, 2, 3)\n",
    "do_function_with_additional_code(foo, 1, 3)\n",
    "do_function_with_additional_code(pipo, 1, 2, 3)\n",
    "do_function_with_additional_code(pipo, 1, 2, 3)\n",
    "do_function_with_additional_code(bar, 1, 2)\n",
    "do_function_with_additional_code(pipo, 1, 2, 3)"
   ],
   "metadata": {
    "collapsed": false,
    "ExecuteTime": {
     "end_time": "2023-09-01T12:24:45.349870285Z",
     "start_time": "2023-09-01T12:24:44.803829444Z"
    }
   }
  },
  {
   "cell_type": "markdown",
   "source": [
    "Ну очевидно ж що записи"
   ],
   "metadata": {
    "collapsed": false
   }
  },
  {
   "cell_type": "code",
   "execution_count": 60,
   "outputs": [
    {
     "name": "stdout",
     "output_type": "stream",
     "text": [
      "do something before func\n",
      "function bar is called\n",
      "do_something after func\n",
      "do something before func\n",
      "function foo is called\n",
      "do_something after func\n",
      "do something before func\n",
      "THIS.IS.PIPOOOO!\n",
      "do_something after func\n"
     ]
    },
    {
     "data": {
      "text/plain": "6.0"
     },
     "execution_count": 60,
     "metadata": {},
     "output_type": "execute_result"
    }
   ],
   "source": [
    "decorated_bar(1, 3)\n",
    "decorated_foo(4, 5)\n",
    "decorated_pipo(6, 2, 2)"
   ],
   "metadata": {
    "collapsed": false,
    "ExecuteTime": {
     "end_time": "2023-09-01T12:24:45.350747146Z",
     "start_time": "2023-09-01T12:24:44.846516740Z"
    }
   }
  },
  {
   "cell_type": "markdown",
   "source": [
    "набагато краще ніж той жах зверху"
   ],
   "metadata": {
    "collapsed": false
   }
  },
  {
   "cell_type": "markdown",
   "source": [
    "# @"
   ],
   "metadata": {
    "collapsed": false
   }
  },
  {
   "cell_type": "markdown",
   "source": [
    "Що до @ - це так званий синтасичний цукор в мові Python, що дозволяє застосувати декоратор до функції під час її оголошення.\n",
    "Наприклад щоб не робити"
   ],
   "metadata": {
    "collapsed": false
   }
  },
  {
   "cell_type": "code",
   "execution_count": 61,
   "outputs": [],
   "source": [
    "def bar(a, b):\n",
    "    print('function bar is called')\n",
    "    return a + b\n",
    "\n",
    "bar = decorator_with_print(bar)"
   ],
   "metadata": {
    "collapsed": false,
    "ExecuteTime": {
     "end_time": "2023-09-01T12:24:45.381980453Z",
     "start_time": "2023-09-01T12:24:44.875456751Z"
    }
   }
  },
  {
   "cell_type": "markdown",
   "source": [
    "можна вказати @ та ім'я функції-декоратора перед тим як оголошувати функцію, яку ми хочемо декорувати."
   ],
   "metadata": {
    "collapsed": false
   }
  },
  {
   "cell_type": "code",
   "execution_count": 62,
   "outputs": [],
   "source": [
    "@decorator_with_print\n",
    "def bar(a, b):\n",
    "    print('function bar is called')\n",
    "    return a + b"
   ],
   "metadata": {
    "collapsed": false,
    "ExecuteTime": {
     "end_time": "2023-09-01T12:24:45.385099588Z",
     "start_time": "2023-09-01T12:24:44.928540666Z"
    }
   }
  },
  {
   "cell_type": "markdown",
   "source": [
    "Важливий нюасн: слід звернути увагу на рядок bar = decorator_with_print(bar) : він означає що за цією \"биркою\" (але краще називати це \"ім'я змінної\") тепер записана не сама по собі функція bar, а її декорований вигляд. Це значить що тепер при кожному виклику bar() буде викликана саме функція-обгортка (див. код wrapper), що повинна містити в собі виклик початкової функції bar."
   ],
   "metadata": {
    "collapsed": false
   }
  },
  {
   "cell_type": "markdown",
   "source": [
    "Якщо ж є потреба розділити декоровану та оригінальні версії то слід застосовувати запис трошки інакший:"
   ],
   "metadata": {
    "collapsed": false
   }
  },
  {
   "cell_type": "code",
   "execution_count": 63,
   "outputs": [],
   "source": [
    "def bar(a, b):\n",
    "    print('function bar is called')\n",
    "    return a + b\n",
    "\n",
    "decorated_bar = decorator_with_print(bar)"
   ],
   "metadata": {
    "collapsed": false,
    "ExecuteTime": {
     "end_time": "2023-09-01T12:24:45.387583561Z",
     "start_time": "2023-09-01T12:24:44.965304980Z"
    }
   }
  },
  {
   "cell_type": "markdown",
   "source": [
    "Таким чином можна буде викликати як оригінальну функцію bar , так і її декоровану версію decorated_bar"
   ],
   "metadata": {
    "collapsed": false
   }
  },
  {
   "cell_type": "markdown",
   "source": [
    "Ще раз наголошую що записи"
   ],
   "metadata": {
    "collapsed": false
   }
  },
  {
   "cell_type": "code",
   "execution_count": 64,
   "outputs": [],
   "source": [
    "@decorator_with_print\n",
    "def bar(a, b): pass"
   ],
   "metadata": {
    "collapsed": false,
    "ExecuteTime": {
     "end_time": "2023-09-01T12:24:45.391446042Z",
     "start_time": "2023-09-01T12:24:44.991899189Z"
    }
   }
  },
  {
   "cell_type": "markdown",
   "source": [
    "та"
   ],
   "metadata": {
    "collapsed": false
   }
  },
  {
   "cell_type": "code",
   "execution_count": 65,
   "outputs": [],
   "source": [
    "def bar(a, b):\n",
    "   pass\n",
    "bar = decorator_with_print(bar)"
   ],
   "metadata": {
    "collapsed": false,
    "ExecuteTime": {
     "end_time": "2023-09-01T12:24:45.391769196Z",
     "start_time": "2023-09-01T12:24:45.034829722Z"
    }
   }
  },
  {
   "cell_type": "markdown",
   "source": [
    "є ІДЕНТИЧНИМИ по суті"
   ],
   "metadata": {
    "collapsed": false
   }
  }
 ],
 "metadata": {
  "kernelspec": {
   "display_name": "Python 3",
   "language": "python",
   "name": "python3"
  },
  "language_info": {
   "codemirror_mode": {
    "name": "ipython",
    "version": 3
   },
   "file_extension": ".py",
   "mimetype": "text/x-python",
   "name": "python",
   "nbconvert_exporter": "python",
   "pygments_lexer": "ipython3",
   "version": "3.7.4"
  }
 },
 "nbformat": 4,
 "nbformat_minor": 2
}
